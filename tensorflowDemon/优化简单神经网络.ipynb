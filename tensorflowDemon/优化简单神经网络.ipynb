{
 "cells": [
  {
   "cell_type": "markdown",
   "metadata": {},
   "source": [
    "# 优化简单神经网络"
   ]
  },
  {
   "cell_type": "code",
   "execution_count": 1,
   "metadata": {},
   "outputs": [
    {
     "name": "stdout",
     "output_type": "stream",
     "text": [
      "Extracting MNIST_data\\train-images-idx3-ubyte.gz\n",
      "Extracting MNIST_data\\train-labels-idx1-ubyte.gz\n",
      "Extracting MNIST_data\\t10k-images-idx3-ubyte.gz\n",
      "Extracting MNIST_data\\t10k-labels-idx1-ubyte.gz\n"
     ]
    }
   ],
   "source": [
    "import tensorflow as tf\n",
    "from tensorflow.examples.tutorials.mnist import input_data\n",
    "mnist=input_data.read_data_sets('MNIST_data',one_hot=True)"
   ]
  },
  {
   "cell_type": "code",
   "execution_count": 15,
   "metadata": {},
   "outputs": [
    {
     "name": "stdout",
     "output_type": "stream",
     "text": [
      "Epoch: 0, cost = 0.427844433  正确率： 0.9091\n",
      "Epoch: 1, cost = 0.308345009  正确率： 0.916\n",
      "Epoch: 2, cost = 0.288484558  正确率： 0.918\n",
      "Epoch: 3, cost = 0.277917730  正确率： 0.9199\n",
      "Epoch: 4, cost = 0.271118181  正确率： 0.9209\n",
      "Epoch: 5, cost = 0.266000515  正确率： 0.9201\n",
      "Epoch: 6, cost = 0.262207136  正确率： 0.9211\n",
      "Epoch: 7, cost = 0.259047995  正确率： 0.9229\n",
      "Epoch: 8, cost = 0.256621415  正确率： 0.923\n",
      "Epoch: 9, cost = 0.254138991  正确率： 0.9224\n",
      "Epoch: 10, cost = 0.252458437  正确率： 0.9229\n",
      "Epoch: 11, cost = 0.250269600  正确率： 0.9248\n",
      "Epoch: 12, cost = 0.249304456  正确率： 0.9244\n",
      "Epoch: 13, cost = 0.247571043  正确率： 0.9236\n",
      "Epoch: 14, cost = 0.246816822  正确率： 0.924\n",
      "Epoch: 15, cost = 0.245603953  正确率： 0.9233\n",
      "Epoch: 16, cost = 0.244218370  正确率： 0.9246\n",
      "Epoch: 17, cost = 0.243899137  正确率： 0.9236\n",
      "Epoch: 18, cost = 0.242698653  正确率： 0.9243\n",
      "Epoch: 19, cost = 0.241475912  正确率： 0.9241\n",
      "Epoch: 20, cost = 0.241017873  正确率： 0.9249\n",
      "Epoch: 21, cost = 0.240319443  正确率： 0.9237\n",
      "Epoch: 22, cost = 0.239437011  正确率： 0.925\n",
      "Epoch: 23, cost = 0.238742082  正确率： 0.9246\n",
      "Epoch: 24, cost = 0.238216071  正确率： 0.9237\n",
      "运行结束\n"
     ]
    }
   ],
   "source": [
    "batch_size = 50\n",
    "# x 是特征值\n",
    "x = tf.placeholder(tf.float32, [None, 784])\n",
    "# y 是输出\n",
    "y = tf.placeholder(tf.float32, [None, 10])\n",
    "\n",
    "# 模型权重\n",
    "W = tf.Variable(tf.zeros([784, 10]))\n",
    "b = tf.Variable(tf.zeros([10]))\n",
    "\n",
    "# 预测值\n",
    "predictor = tf.matmul(x, W) + b\n",
    "\n",
    "# 用softmax 构建逻辑回归模型\n",
    "pred = tf.nn.softmax(predictor) \n",
    "#############################################################\n",
    "# loss 函数\n",
    "# 使用平方差\n",
    "# cost = tf.reduce_mean(tf.square(y - predictor))\n",
    "\n",
    "# 使用交叉熵\n",
    "cost = tf.reduce_mean(-tf.reduce_sum(y * tf.log(pred), 1))\n",
    "\n",
    "\n",
    "#############################################################\n",
    "\n",
    "#############################################################\n",
    "# 优化算法\n",
    "# 梯度下降\n",
    "optimizer = tf.train.GradientDescentOptimizer(0.1).minimize(cost)\n",
    "# optimizer = tf.train.AdadeltaOptimizer(0.05).minimize(cost)\n",
    "\n",
    "#############################################################\n",
    "\n",
    "\n",
    "\n",
    "with tf.Session() as sess:\n",
    "    sess.run(tf.global_variables_initializer())\n",
    "    for step in range(25):\n",
    "        avg_cost = 0\n",
    "        total_batch = int(mnist.train.num_examples / batch_size)\n",
    "        for i in range(total_batch):\n",
    "            batch_xs, batch_ys = mnist.train.next_batch(batch_size)\n",
    "            sess.run(optimizer, feed_dict={x: batch_xs, y: batch_ys})\n",
    "            avg_cost += sess.run(cost, feed_dict={x:batch_xs, y:batch_ys}) / total_batch\n",
    "            \n",
    "        # 计算正确率\n",
    "        correct = tf.equal(tf.arg_max(pred, 1), tf.argmax(y, 1))\n",
    "        accuracy = tf.reduce_mean(tf.cast(correct, tf.float32))\n",
    "        print(\"Epoch: {}, cost = {:.9f} \".format(step, avg_cost), \"正确率：\", accuracy.eval({x:mnist.test.images, y:mnist.test.labels}))\n",
    "\n",
    "    print(\"运行结束\")\n",
    "#     correct = tf.equal(tf.arg_max(pred, 1), tf.argmax(y, 1))\n",
    "#     accuracy = tf.reduce_mean(tf.cast(correct, tf.float32))\n",
    "#     print(\"正确率：\", accuracy.eval({x:mnist.test.images, y:mnist.test.labels}))\n"
   ]
  },
  {
   "cell_type": "code",
   "execution_count": null,
   "metadata": {
    "collapsed": true
   },
   "outputs": [],
   "source": []
  }
 ],
 "metadata": {
  "kernelspec": {
   "display_name": "Python 3",
   "language": "python",
   "name": "python3"
  },
  "language_info": {
   "codemirror_mode": {
    "name": "ipython",
    "version": 3
   },
   "file_extension": ".py",
   "mimetype": "text/x-python",
   "name": "python",
   "nbconvert_exporter": "python",
   "pygments_lexer": "ipython3",
   "version": "3.6.3"
  }
 },
 "nbformat": 4,
 "nbformat_minor": 2
}
