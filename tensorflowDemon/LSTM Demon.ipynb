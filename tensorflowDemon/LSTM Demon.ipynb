{
 "cells": [
  {
   "cell_type": "code",
   "execution_count": 1,
   "metadata": {},
   "outputs": [
    {
     "name": "stdout",
     "output_type": "stream",
     "text": [
      "Extracting MNIST_data\\train-images-idx3-ubyte.gz\n",
      "Extracting MNIST_data\\train-labels-idx1-ubyte.gz\n",
      "Extracting MNIST_data\\t10k-images-idx3-ubyte.gz\n",
      "Extracting MNIST_data\\t10k-labels-idx1-ubyte.gz\n"
     ]
    }
   ],
   "source": [
    "import tensorflow as tf\n",
    "from tensorflow.examples.tutorials.mnist import input_data\n",
    "mnist=input_data.read_data_sets('MNIST_data',one_hot=True)"
   ]
  },
  {
   "cell_type": "code",
   "execution_count": 10,
   "metadata": {},
   "outputs": [
    {
     "name": "stdout",
     "output_type": "stream",
     "text": [
      "Iter 0, testing accuracy= 0.6757\n",
      "Iter 1, testing accuracy= 0.8692\n",
      "Iter 2, testing accuracy= 0.9027\n",
      "Iter 3, testing accuracy= 0.9132\n",
      "Iter 4, testing accuracy= 0.923\n",
      "Iter 5, testing accuracy= 0.9324\n",
      "Iter 6, testing accuracy= 0.9388\n",
      "Iter 7, testing accuracy= 0.9402\n",
      "Iter 8, testing accuracy= 0.9457\n",
      "Iter 9, testing accuracy= 0.9496\n",
      "Iter 10, testing accuracy= 0.9536\n",
      "Iter 11, testing accuracy= 0.9423\n",
      "Iter 12, testing accuracy= 0.9518\n",
      "Iter 13, testing accuracy= 0.9579\n",
      "Iter 14, testing accuracy= 0.9624\n",
      "Iter 15, testing accuracy= 0.9595\n",
      "Iter 16, testing accuracy= 0.9615\n",
      "Iter 17, testing accuracy= 0.9641\n",
      "Iter 18, testing accuracy= 0.9601\n",
      "Iter 19, testing accuracy= 0.9606\n",
      "Iter 20, testing accuracy= 0.9669\n"
     ]
    }
   ],
   "source": [
    "tf.reset_default_graph()\n",
    "n_input = 28  # 每一行有28 个像素点\n",
    "max_time = 28 # 一共有28行像素点\n",
    "lstm_size = 100  # 一共定义100 个隐藏cell\n",
    "n_class = 10  # 输出10个分类\n",
    "batch_size = 50 #定义batch size 为50\n",
    "n_batch = mnist.train.num_examples // batch_size\n",
    "\n",
    "################################################\n",
    "## 定义变量\n",
    "x = tf.placeholder(tf.float32, [None, 784])\n",
    "y = tf.placeholder(tf.float32, [None, 10])\n",
    "weights = tf.Variable(tf.truncated_normal([lstm_size, n_class], stddev=0.1))\n",
    "biases = tf.Variable(tf.constant(0.1, shape=[n_class]))\n",
    "#################################################\n",
    "\n",
    "################################################\n",
    "# 定义主要网络结构\n",
    "def LSTM(X, weights, biases):\n",
    "    inputs = tf.reshape(X, [-1, max_time, n_input])\n",
    "    lstm_cell = tf.contrib.rnn.BasicLSTMCell(lstm_size)  # 定义lstm的基本cell\n",
    "    # final_state[0] 是cell state\n",
    "    # final_state[1] 是hidden state\n",
    "    outputs, final_state = tf.nn.dynamic_rnn(lstm_cell, inputs, dtype=tf.float32)\n",
    "    results = tf.nn.softmax(tf.matmul(final_state[1], weights) + biases)\n",
    "    return results\n",
    "################################################\n",
    "\n",
    "######################################\n",
    "## 计算\n",
    "prediction = LSTM(x, weights, biases)\n",
    "cross_entroy = tf.reduce_mean(tf.nn.softmax_cross_entropy_with_logits(logits=prediction, labels=y))\n",
    "###################################################\n",
    "## 定义优化函数\n",
    "train_step = tf.train.AdamOptimizer(0.0001).minimize(cross_entroy) # 使用AdamOptimizer 优化\n",
    "###################################################\n",
    "### 计算准确率\n",
    "correct_prediction = tf.equal(tf.argmax(y, 1), tf.argmax(prediction, 1))  # 求准确率\n",
    "accuracy = tf.reduce_mean(tf.cast(correct_prediction, tf.float32))\n",
    "##############################################\n",
    "\n",
    "\n",
    "with tf.Session() as sess:\n",
    "    sess.run(tf.global_variables_initializer())\n",
    "    for epoch in range(21):\n",
    "        for batch in range(n_batch):\n",
    "            batch_xs, batch_ys = mnist.train.next_batch(batch_size)\n",
    "            sess.run(train_step, feed_dict={x:batch_xs, y:batch_ys})\n",
    "            \n",
    "        acc = sess.run(accuracy, feed_dict={x:mnist.test.images, y:mnist.test.labels})\n",
    "        print(\"Iter \" + str(epoch) + \", testing accuracy= \" + str(acc))"
   ]
  },
  {
   "cell_type": "code",
   "execution_count": null,
   "metadata": {
    "collapsed": true
   },
   "outputs": [],
   "source": []
  }
 ],
 "metadata": {
  "kernelspec": {
   "display_name": "Python 3",
   "language": "python",
   "name": "python3"
  },
  "language_info": {
   "codemirror_mode": {
    "name": "ipython",
    "version": 3
   },
   "file_extension": ".py",
   "mimetype": "text/x-python",
   "name": "python",
   "nbconvert_exporter": "python",
   "pygments_lexer": "ipython3",
   "version": "3.6.3"
  }
 },
 "nbformat": 4,
 "nbformat_minor": 2
}
