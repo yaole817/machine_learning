{
 "cells": [
  {
   "cell_type": "code",
   "execution_count": 24,
   "metadata": {},
   "outputs": [],
   "source": [
    "%matplotlib inline\n",
    "import tensorflow as tf\n",
    "import matplotlib.pyplot as plt\n",
    "import numpy as np"
   ]
  },
  {
   "cell_type": "markdown",
   "metadata": {},
   "source": [
    "# tensorlow练习"
   ]
  },
  {
   "cell_type": "code",
   "execution_count": 13,
   "metadata": {},
   "outputs": [
    {
     "name": "stdout",
     "output_type": "stream",
     "text": [
      "[ 2.03992414  3.48601818  3.43219066]\n",
      "[ 0.14256847  0.53394878  0.02727818]\n"
     ]
    }
   ],
   "source": [
    "a = tf.constant([1.0, 2.0, 3.0], name=\"input1\")\n",
    "b = tf.Variable(tf.random_uniform([3]), name=\"input2\")\n",
    "c = tf.Variable(tf.random_uniform([3]), name=\"input3\")\n",
    "add = tf.add_n([a, b,c], name=\"addOP\")\n",
    "init = tf.global_variables_initializer()\n",
    "\n",
    "with tf.Session() as sess:\n",
    "    sess.run(init)\n",
    "#     writer = tf.summary.FileWriter(\"D:/tensorboardDemon\", sess.graph)\n",
    "    print(sess.run(add))\n",
    "    print(sess.run(c))\n",
    "# writer.close()\n"
   ]
  },
  {
   "cell_type": "markdown",
   "metadata": {
    "collapsed": true
   },
   "source": [
    "# 使用逻辑回归来识别"
   ]
  },
  {
   "cell_type": "code",
   "execution_count": 92,
   "metadata": {},
   "outputs": [
    {
     "data": {
      "image/png": "[encoded data removed]",
      "text/plain": [
       "<matplotlib.figure.Figure at 0x1e020e623c8>"
      ]
     },
     "metadata": {},
     "output_type": "display_data"
    }
   ],
   "source": [
    "x_data = np.linspace(-0.5, 0.5, 100)[:,np.newaxis]\n",
    "noise = np.random.normal(0, 0.02, x_data.shape)\n",
    "y_data = np.dot(x_data, 19) + noise\n",
    "\n",
    "# x_data = tf.random_normal([100, 1])\n",
    "# y_data = tf.multiply(x_data, 7) + 3\n",
    "\n",
    "# 建立输入层\n",
    "x = tf.placeholder(tf.float32, [None, 1])\n",
    "y = tf.placeholder(tf.float32, [None, 1])\n",
    "\n",
    "w1 = tf.Variable(tf.random_normal([1, 100]))\n",
    "b1 = tf.Variable(tf.zeros([1, 100]))\n",
    "\n",
    "# 定义激活函数\n",
    "wx_plus_b1 = tf.matmul(x, w1) + b1\n",
    "l1 = tf.nn.tanh(wx_plus_b1)\n",
    "\n",
    "\n",
    "# w2 = tf.Variable(tf.random_normal([100, 100]))\n",
    "# b2 = tf.Variable(tf.zeros([100, 1]))\n",
    "\n",
    "# # 定义激活函数\n",
    "\n",
    "# wx_plus_b2 = tf.matmul(l1, w2) + b2\n",
    "# l2 = tf.nn.sigmoid(wx_plus_b2)\n",
    "\n",
    "\n",
    "# 创建输出层\n",
    "w3 = tf.Variable(tf.random_normal([100, 1]))\n",
    "b3 = tf.Variable(tf.zeros([1, 1]))\n",
    "\n",
    "# 定义激活函数\n",
    "wx_plus_b3 = tf.matmul(l1, w3) + b3\n",
    "pridicter = tf.nn.tanh(wx_plus_b3)\n",
    "\n",
    "# 定义损失函数\n",
    "loss = tf.reduce_mean(tf.square(y - wx_plus_b3))\n",
    "train = tf.train.GradientDescentOptimizer(0.1).minimize(loss)\n",
    "\n",
    "\n",
    "with tf.Session() as sess:\n",
    "    sess.run(tf.global_variables_initializer())\n",
    "#     x_data = sess.run(x_data)\n",
    "#     y_data = sess.run(y_data)\n",
    "    for _ in range(200):\n",
    "        sess.run(train, feed_dict={x:x_data, y:y_data})\n",
    "        \n",
    "    predict_y=sess.run(wx_plus_b3, feed_dict={x:x_data})\n",
    "    plt.figure()\n",
    "    plt.scatter(x_data,y_data)\n",
    "    plt.plot(x_data,predict_y,'r',lw=8)\n",
    "    plt.show()\n",
    "    \n"
   ]
  },
  {
   "cell_type": "markdown",
   "metadata": {},
   "source": [
    "# 使用CNN来实现识别"
   ]
  },
  {
   "cell_type": "code",
   "execution_count": 94,
   "metadata": {},
   "outputs": [
    {
     "name": "stdout",
     "output_type": "stream",
     "text": [
      "Extracting MNIST_data\\train-images-idx3-ubyte.gz\n",
      "Extracting MNIST_data\\train-labels-idx1-ubyte.gz\n",
      "Extracting MNIST_data\\t10k-images-idx3-ubyte.gz\n",
      "Extracting MNIST_data\\t10k-labels-idx1-ubyte.gz\n"
     ]
    }
   ],
   "source": [
    "from tensorflow.examples.tutorials.mnist import input_data\n",
    "mnist=input_data.read_data_sets('MNIST_data',one_hot=True)"
   ]
  },
  {
   "cell_type": "code",
   "execution_count": 102,
   "metadata": {},
   "outputs": [
    {
     "name": "stdout",
     "output_type": "stream",
     "text": [
      "Epoch: 0, cost = 0.427517627 \n",
      "Epoch: 5, cost = 0.265660014 \n",
      "Epoch: 10, cost = 0.252292663 \n",
      "Epoch: 15, cost = 0.245403175 \n",
      "Epoch: 20, cost = 0.240933270 \n",
      "运行结束\n",
      "正确率： 0.923\n"
     ]
    }
   ],
   "source": [
    "batch_size = 50\n",
    "# x 是特征值\n",
    "x = tf.placeholder(tf.float32, [None, 784])\n",
    "# y 是输出\n",
    "y = tf.placeholder(tf.float32, [None, 10])\n",
    "\n",
    "# 模型权重\n",
    "W = tf.Variable(tf.zeros([784, 10]))\n",
    "b = tf.Variable(tf.zeros([10]))\n",
    "\n",
    "# 用softmax 构建逻辑回归模型\n",
    "pred = tf.nn.softmax(tf.matmul(x, W) + b) \n",
    "\n",
    "# loss 函数\n",
    "cost = tf.reduce_mean(-tf.reduce_sum(y * tf.log(pred), 1))\n",
    "\n",
    "# 梯度下降\n",
    "optimizer = tf.train.GradientDescentOptimizer(0.1).minimize(cost)\n",
    "\n",
    "with tf.Session() as sess:\n",
    "    sess.run(tf.global_variables_initializer())\n",
    "    for step in range(25):\n",
    "        avg_cost = 0\n",
    "        total_batch = int(mnist.train.num_examples / batch_size)\n",
    "        for i in range(total_batch):\n",
    "            batch_xs, batch_ys = mnist.train.next_batch(batch_size)\n",
    "            sess.run(optimizer, feed_dict={x: batch_xs, y: batch_ys})\n",
    "            avg_cost += sess.run(cost, feed_dict={x:batch_xs, y:batch_ys}) / total_batch\n",
    "        if step % 5 == 0:\n",
    "            print(\"Epoch: {}, cost = {:.9f} \".format(step, avg_cost))\n",
    "\n",
    "    print(\"运行结束\")\n",
    "    \n",
    "    correct = tf.equal(tf.arg_max(pred, 1), tf.argmax(y, 1))\n",
    "    accuracy = tf.reduce_mean(tf.cast(correct, tf.float32))\n",
    "    print(\"正确率：\", accuracy.eval({x:mnist.test.images, y:mnist.test.labels}))\n"
   ]
  },
  {
   "cell_type": "code",
   "execution_count": 104,
   "metadata": {},
   "outputs": [
    {
     "name": "stdout",
     "output_type": "stream",
     "text": [
      "0 0.953125\n",
      "1 0.98046875\n",
      "2 0.984375\n",
      "3 0.98828125\n",
      "4 0.99609375\n",
      "5 0.98828125\n",
      "6 0.98828125\n",
      "7 0.99609375\n",
      "8 0.98046875\n",
      "9 0.9921875\n"
     ]
    }
   ],
   "source": [
    "batch_size = 128\n",
    "test_size = 256\n",
    "\n",
    "def init_weights(shape):\n",
    "    return tf.Variable(tf.random_normal(shape, stddev=0.01))\n",
    "\n",
    "def model(X, w, w2, w3, w4, w_o, p_keep_conv, p_keep_hidden):\n",
    "    l1a = tf.nn.relu(tf.nn.conv2d(X, w,                       # l1a shape=(?, 28, 28, 32)\n",
    "                        strides=[1, 1, 1, 1], padding='SAME'))\n",
    "    l1 = tf.nn.max_pool(l1a, ksize=[1, 2, 2, 1],              # l1 shape=(?, 14, 14, 32)\n",
    "                        strides=[1, 2, 2, 1], padding='SAME')\n",
    "    l1 = tf.nn.dropout(l1, p_keep_conv)\n",
    "\n",
    "    l2a = tf.nn.relu(tf.nn.conv2d(l1, w2,                     # l2a shape=(?, 14, 14, 64)\n",
    "                        strides=[1, 1, 1, 1], padding='SAME'))\n",
    "    l2 = tf.nn.max_pool(l2a, ksize=[1, 2, 2, 1],              # l2 shape=(?, 7, 7, 64)\n",
    "                        strides=[1, 2, 2, 1], padding='SAME')\n",
    "    l2 = tf.nn.dropout(l2, p_keep_conv)\n",
    "\n",
    "    l3a = tf.nn.relu(tf.nn.conv2d(l2, w3,                     # l3a shape=(?, 7, 7, 128)\n",
    "                        strides=[1, 1, 1, 1], padding='SAME'))\n",
    "    l3 = tf.nn.max_pool(l3a, ksize=[1, 2, 2, 1],              # l3 shape=(?, 4, 4, 128)\n",
    "                        strides=[1, 2, 2, 1], padding='SAME')\n",
    "    l3 = tf.reshape(l3, [-1, w4.get_shape().as_list()[0]])    # reshape to (?, 2048)\n",
    "    l3 = tf.nn.dropout(l3, p_keep_conv)\n",
    "\n",
    "    l4 = tf.nn.relu(tf.matmul(l3, w4))\n",
    "    l4 = tf.nn.dropout(l4, p_keep_hidden)\n",
    "\n",
    "    pyx = tf.matmul(l4, w_o)\n",
    "    return pyx\n",
    "\n",
    "trX, trY, teX, teY = mnist.train.images, mnist.train.labels, mnist.test.images, mnist.test.labels\n",
    "trX = trX.reshape(-1, 28, 28, 1)  # 28x28x1 input img\n",
    "teX = teX.reshape(-1, 28, 28, 1)  # 28x28x1 input img\n",
    "\n",
    "\n",
    "X = tf.placeholder(\"float\", [None, 28, 28, 1])\n",
    "Y = tf.placeholder(\"float\", [None, 10])\n",
    "\n",
    "w = init_weights([3, 3, 1, 32])       # 3x3x1 conv, 32 outputs\n",
    "w2 = init_weights([3, 3, 32, 64])     # 3x3x32 conv, 64 outputs\n",
    "w3 = init_weights([3, 3, 64, 128])    # 3x3x32 conv, 128 outputs\n",
    "w4 = init_weights([128 * 4 * 4, 625]) # FC 128 * 4 * 4 inputs, 625 outputs\n",
    "w_o = init_weights([625, 10])         # FC 625 inputs, 10 outputs (labels)\n",
    "\n",
    "p_keep_conv = tf.placeholder(\"float\")\n",
    "p_keep_hidden = tf.placeholder(\"float\")\n",
    "py_x = model(X, w, w2, w3, w4, w_o, p_keep_conv, p_keep_hidden)\n",
    "\n",
    "cost = tf.reduce_mean(tf.nn.softmax_cross_entropy_with_logits(logits=py_x, labels=Y))\n",
    "train_op = tf.train.RMSPropOptimizer(0.001, 0.9).minimize(cost)\n",
    "predict_op = tf.argmax(py_x, 1)\n",
    "\n",
    "# Launch the graph in a session\n",
    "with tf.Session() as sess:\n",
    "    # you need to initialize all variables\n",
    "    sess.run(tf.global_variables_initializer())\n",
    "\n",
    "    for i in range(10):\n",
    "        training_batch = zip(range(0, len(trX), batch_size), range(batch_size, len(trX)+1, batch_size))\n",
    "        for start, end in training_batch:\n",
    "            sess.run(train_op, feed_dict={X: trX[start:end], \n",
    "                                          Y: trY[start:end],\n",
    "                                          p_keep_conv: 0.8, \n",
    "                                          p_keep_hidden: 0.5,\n",
    "                                         })\n",
    "\n",
    "        test_indices = np.arange(len(teX)) # Get A Test Batch\n",
    "        np.random.shuffle(test_indices)\n",
    "        test_indices = test_indices[0:test_size]\n",
    "        predicter = sess.run(predict_op, feed_dict={X: teX[test_indices],\n",
    "                                                    Y: teY[test_indices],\n",
    "                                                    p_keep_conv: 1.0,\n",
    "                                                    p_keep_hidden: 1.0})\n",
    "        print(i, np.mean(np.argmax(teY[test_indices], axis=1) == predicter))\n",
    "                         "
   ]
  },
  {
   "cell_type": "code",
   "execution_count": null,
   "metadata": {
    "collapsed": true
   },
   "outputs": [],
   "source": []
  },
  {
   "cell_type": "code",
   "execution_count": null,
   "metadata": {
    "collapsed": true
   },
   "outputs": [],
   "source": []
  },
  {
   "cell_type": "code",
   "execution_count": null,
   "metadata": {
    "collapsed": true
   },
   "outputs": [],
   "source": []
  },
  {
   "cell_type": "code",
   "execution_count": null,
   "metadata": {
    "collapsed": true
   },
   "outputs": [],
   "source": []
  },
  {
   "cell_type": "code",
   "execution_count": null,
   "metadata": {
    "collapsed": true
   },
   "outputs": [],
   "source": []
  }
 ],
 "metadata": {
  "kernelspec": {
   "display_name": "Python 3",
   "language": "python",
   "name": "python3"
  },
  "language_info": {
   "codemirror_mode": {
    "name": "ipython",
    "version": 3
   },
   "file_extension": ".py",
   "mimetype": "text/x-python",
   "name": "python",
   "nbconvert_exporter": "python",
   "pygments_lexer": "ipython3",
   "version": "3.6.3"
  }
 },
 "nbformat": 4,
 "nbformat_minor": 2
}
