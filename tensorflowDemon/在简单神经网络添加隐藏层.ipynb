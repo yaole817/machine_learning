{
 "cells": [
  {
   "cell_type": "markdown",
   "metadata": {},
   "source": [
    "## 增加隐藏层\n",
    "\n",
    "调节完loss函数和优化函数之后，发现模型的准确率一直不能有大幅提升，因此打算添加隐藏层来提高模型的准确率<br>\n",
    "增加隐藏层相当于增加函数的非线性元素"
   ]
  },
  {
   "cell_type": "code",
   "execution_count": 1,
   "metadata": {},
   "outputs": [
    {
     "name": "stdout",
     "output_type": "stream",
     "text": [
      "Extracting MNIST_data\\train-images-idx3-ubyte.gz\n",
      "Extracting MNIST_data\\train-labels-idx1-ubyte.gz\n",
      "Extracting MNIST_data\\t10k-images-idx3-ubyte.gz\n",
      "Extracting MNIST_data\\t10k-labels-idx1-ubyte.gz\n"
     ]
    }
   ],
   "source": [
    "import tensorflow as tf\n",
    "from tensorflow.examples.tutorials.mnist import input_data\n",
    "mnist=input_data.read_data_sets('MNIST_data',one_hot=True)"
   ]
  },
  {
   "cell_type": "code",
   "execution_count": 7,
   "metadata": {},
   "outputs": [
    {
     "name": "stdout",
     "output_type": "stream",
     "text": [
      "Epoch: 0, cost = 0.175162177  正确率： 0.951\n",
      "Epoch: 1, cost = 0.085040948  正确率： 0.9638\n",
      "Epoch: 2, cost = 0.056983465  正确率： 0.9691\n",
      "Epoch: 3, cost = 0.042946490  正确率： 0.9747\n",
      "Epoch: 4, cost = 0.033147736  正确率： 0.9752\n",
      "Epoch: 5, cost = 0.026604100  正确率： 0.9766\n",
      "Epoch: 6, cost = 0.021364163  正确率： 0.9775\n",
      "Epoch: 7, cost = 0.018231708  正确率： 0.9793\n",
      "Epoch: 8, cost = 0.015546772  正确率： 0.9801\n",
      "Epoch: 9, cost = 0.013485733  正确率： 0.979\n",
      "Epoch: 10, cost = 0.011866351  正确率： 0.9807\n",
      "Epoch: 11, cost = 0.010094747  正确率： 0.9811\n",
      "Epoch: 12, cost = 0.009316144  正确率： 0.9807\n",
      "Epoch: 13, cost = 0.008399891  正确率： 0.9811\n",
      "Epoch: 14, cost = 0.007478295  正确率： 0.98\n",
      "Epoch: 15, cost = 0.006912964  正确率： 0.9802\n",
      "Epoch: 16, cost = 0.006230647  正确率： 0.9799\n",
      "Epoch: 17, cost = 0.005688033  正确率： 0.9808\n",
      "Epoch: 18, cost = 0.005449539  正确率： 0.9819\n",
      "Epoch: 19, cost = 0.004989555  正确率： 0.9812\n",
      "Epoch: 20, cost = 0.004678529  正确率： 0.9816\n",
      "Epoch: 21, cost = 0.004363726  正确率： 0.981\n",
      "Epoch: 22, cost = 0.004137680  正确率： 0.9808\n",
      "Epoch: 23, cost = 0.003925632  正确率： 0.9809\n",
      "Epoch: 24, cost = 0.003672573  正确率： 0.9807\n",
      "运行结束\n"
     ]
    }
   ],
   "source": [
    "batch_size = 50\n",
    "# x 是特征值\n",
    "x = tf.placeholder(tf.float32, [None, 784])\n",
    "# y 是输出\n",
    "y = tf.placeholder(tf.float32, [None, 10])\n",
    "\n",
    "#################################################################################\n",
    "## 隐藏层\n",
    "\n",
    "L1_W = tf.Variable(tf.truncated_normal([784, 800], stddev=0.1))  ## stddev 的值一定要指定，如果不指定的话，没有输出结果，默认参数里面给\n",
    "L1_b = tf.Variable(tf.zeros([800]))\n",
    "L1_out = tf.nn.relu(tf.matmul(x, L1_W) + L1_b)\n",
    "\n",
    "##################################################################################\n",
    "# 模型权重\n",
    "W = tf.Variable(tf.truncated_normal([800, 10], stddev=0.1))  \n",
    "b = tf.Variable(tf.zeros([1, 10]))\n",
    "\n",
    "\n",
    "# 预测值\n",
    "predictor = tf.matmul(L1_out, W) + b\n",
    "\n",
    "# 用softmax 构建逻辑回归模型\n",
    "pred = tf.nn.softmax(predictor) \n",
    "#############################################################\n",
    "# loss 函数\n",
    "# 使用平方差\n",
    "# cost = tf.reduce_mean(tf.square(y - predictor))\n",
    "\n",
    "# 使用交叉熵\n",
    "cost = tf.reduce_mean(-tf.reduce_sum(y * tf.log(pred), 1))\n",
    "\n",
    "\n",
    "#############################################################\n",
    "\n",
    "#############################################################\n",
    "# 优化算法\n",
    "# 梯度下降\n",
    "optimizer = tf.train.GradientDescentOptimizer(0.1).minimize(cost)\n",
    "# optimizer = tf.train.AdadeltaOptimizer(0.01).minimize(cost)\n",
    "\n",
    "#############################################################\n",
    "\n",
    "\n",
    "with tf.Session() as sess:\n",
    "    sess.run(tf.global_variables_initializer())\n",
    "    for step in range(25):\n",
    "        avg_cost = 0\n",
    "        total_batch = mnist.train.num_examples // batch_size\n",
    "        for i in range(total_batch):\n",
    "            batch_xs, batch_ys = mnist.train.next_batch(batch_size)\n",
    "            sess.run(optimizer, feed_dict={x: batch_xs, y: batch_ys})\n",
    "            avg_cost += sess.run(cost, feed_dict={x:batch_xs, y:batch_ys}) / total_batch\n",
    "            \n",
    "        # 计算正确率\n",
    "        correct = tf.equal(tf.argmax(pred, 1), tf.argmax(y, 1))\n",
    "        accuracy = tf.reduce_mean(tf.cast(correct, tf.float32))\n",
    "        print(\"Epoch: {}, cost = {:.9f} \".format(step, avg_cost), \"正确率：\", accuracy.eval({x:mnist.test.images, y:mnist.test.labels}))\n",
    "        \n",
    "    print(\"运行结束\")\n"
   ]
  },
  {
   "cell_type": "markdown",
   "metadata": {
    "collapsed": true
   },
   "source": [
    "# 结论\n",
    "使用简单神经网络，并通过添加隐藏层可以将模型的准确率提高到98%  \n",
    "在单纯的简单神经网络，没有办法将训练精度进一步提高，下一步可以考虑将模型更换为CNN"
   ]
  },
  {
   "cell_type": "code",
   "execution_count": null,
   "metadata": {
    "collapsed": true
   },
   "outputs": [],
   "source": []
  }
 ],
 "metadata": {
  "kernelspec": {
   "display_name": "Python 3",
   "language": "python",
   "name": "python3"
  },
  "language_info": {
   "codemirror_mode": {
    "name": "ipython",
    "version": 3
   },
   "file_extension": ".py",
   "mimetype": "text/x-python",
   "name": "python",
   "nbconvert_exporter": "python",
   "pygments_lexer": "ipython3",
   "version": "3.6.3"
  }
 },
 "nbformat": 4,
 "nbformat_minor": 2
}
