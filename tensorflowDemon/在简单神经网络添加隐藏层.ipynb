{
 "cells": [
  {
   "cell_type": "markdown",
   "metadata": {},
   "source": [
    "## 增加隐藏层\n",
    "调节完loss函数和优化函数之后，发现模型的准确率一直不能有大幅提升，因此打算添加隐藏层来提高模型的准确率"
   ]
  },
  {
   "cell_type": "code",
   "execution_count": 2,
   "metadata": {},
   "outputs": [
    {
     "name": "stdout",
     "output_type": "stream",
     "text": [
      "Extracting MNIST_data\\train-images-idx3-ubyte.gz\n",
      "Extracting MNIST_data\\train-labels-idx1-ubyte.gz\n",
      "Extracting MNIST_data\\t10k-images-idx3-ubyte.gz\n",
      "Extracting MNIST_data\\t10k-labels-idx1-ubyte.gz\n"
     ]
    }
   ],
   "source": [
    "import tensorflow as tf\n",
    "from tensorflow.examples.tutorials.mnist import input_data\n",
    "mnist=input_data.read_data_sets('MNIST_data',one_hot=True)"
   ]
  },
  {
   "cell_type": "code",
   "execution_count": 13,
   "metadata": {},
   "outputs": [
    {
     "name": "stdout",
     "output_type": "stream",
     "text": [
      "Epoch: 0, cost = nan  正确率： 0.098\n",
      "Epoch: 1, cost = nan  正确率： 0.098\n",
      "Epoch: 2, cost = nan  正确率： 0.098\n",
      "Epoch: 3, cost = nan  正确率： 0.098\n",
      "Epoch: 4, cost = nan  正确率： 0.098\n",
      "Epoch: 5, cost = nan  正确率： 0.098\n",
      "Epoch: 6, cost = nan  正确率： 0.098\n",
      "Epoch: 7, cost = nan  正确率： 0.098\n",
      "Epoch: 8, cost = nan  正确率： 0.098\n",
      "Epoch: 9, cost = nan  正确率： 0.098\n",
      "Epoch: 10, cost = nan  正确率： 0.098\n",
      "Epoch: 11, cost = nan  正确率： 0.098\n",
      "Epoch: 12, cost = nan  正确率： 0.098\n",
      "Epoch: 13, cost = nan  正确率： 0.098\n",
      "Epoch: 14, cost = nan  正确率： 0.098\n",
      "Epoch: 15, cost = nan  正确率： 0.098\n",
      "Epoch: 16, cost = nan  正确率： 0.098\n",
      "Epoch: 17, cost = nan  正确率： 0.098\n",
      "Epoch: 18, cost = nan  正确率： 0.098\n",
      "Epoch: 19, cost = nan  正确率： 0.098\n",
      "Epoch: 20, cost = nan  正确率： 0.098\n",
      "Epoch: 21, cost = nan  正确率： 0.098\n",
      "Epoch: 22, cost = nan  正确率： 0.098\n",
      "Epoch: 23, cost = nan  正确率： 0.098\n",
      "Epoch: 24, cost = nan  正确率： 0.098\n",
      "运行结束\n"
     ]
    }
   ],
   "source": [
    "batch_size = 50\n",
    "# x 是特征值\n",
    "x = tf.placeholder(tf.float32, [None, 784])\n",
    "# y 是输出\n",
    "y = tf.placeholder(tf.float32, [None, 10])\n",
    "\n",
    "L1_W = tf.Variable(tf.truncated_normal([784, 800]))\n",
    "L1_b = tf.Variable(tf.zeros([800]))\n",
    "L1_out = tf.matmul(x, L1_W) + L1_b\n",
    "\n",
    "# 模型权重\n",
    "W = tf.Variable(tf.truncated_normal([800, 10]))\n",
    "b = tf.Variable(tf.zeros([1, 10]))\n",
    "\n",
    "\n",
    "# 预测值\n",
    "predictor = tf.matmul(L1_out, W) + b\n",
    "\n",
    "# 用softmax 构建逻辑回归模型\n",
    "pred = tf.nn.softmax(predictor) \n",
    "#############################################################\n",
    "# loss 函数\n",
    "# 使用平方差\n",
    "# cost = tf.reduce_mean(tf.square(y - predictor))\n",
    "\n",
    "# 使用交叉熵\n",
    "cost = tf.reduce_mean(-tf.reduce_sum(y * tf.log(pred), 1))\n",
    "\n",
    "\n",
    "#############################################################\n",
    "\n",
    "#############################################################\n",
    "# 优化算法\n",
    "# 梯度下降\n",
    "# optimizer = tf.train.GradientDescentOptimizer(0.1).minimize(cost)\n",
    "optimizer = tf.train.AdadeltaOptimizer(0.01).minimize(cost)\n",
    "\n",
    "#############################################################\n",
    "\n",
    "\n",
    "with tf.Session() as sess:\n",
    "    sess.run(tf.global_variables_initializer())\n",
    "    for step in range(25):\n",
    "        avg_cost = 0\n",
    "        total_batch = int(mnist.train.num_examples / batch_size)\n",
    "        for i in range(total_batch):\n",
    "            batch_xs, batch_ys = mnist.train.next_batch(batch_size)\n",
    "            sess.run(optimizer, feed_dict={x: batch_xs, y: batch_ys})\n",
    "            avg_cost += sess.run(cost, feed_dict={x:batch_xs, y:batch_ys}) / total_batch\n",
    "            \n",
    "        # 计算正确率\n",
    "        correct = tf.equal(tf.argmax(pred, 1), tf.argmax(y, 1))\n",
    "        accuracy = tf.reduce_mean(tf.cast(correct, tf.float32))\n",
    "        print(\"Epoch: {}, cost = {:.9f} \".format(step, avg_cost), \"正确率：\", accuracy.eval({x:mnist.test.images, y:mnist.test.labels}))\n",
    "\n",
    "    print(\"运行结束\")\n",
    "#     correct = tf.equal(tf.arg_max(pred, 1), tf.argmax(y, 1))\n",
    "#     accuracy = tf.reduce_mean(tf.cast(correct, tf.float32))\n",
    "#     print(\"正确率：\", accuracy.eval({x:mnist.test.images, y:mnist.test.labels}))\n"
   ]
  },
  {
   "cell_type": "code",
   "execution_count": null,
   "metadata": {
    "collapsed": true
   },
   "outputs": [],
   "source": []
  }
 ],
 "metadata": {
  "kernelspec": {
   "display_name": "Python 3",
   "language": "python",
   "name": "python3"
  },
  "language_info": {
   "codemirror_mode": {
    "name": "ipython",
    "version": 3
   },
   "file_extension": ".py",
   "mimetype": "text/x-python",
   "name": "python",
   "nbconvert_exporter": "python",
   "pygments_lexer": "ipython3",
   "version": "3.6.3"
  }
 },
 "nbformat": 4,
 "nbformat_minor": 2
}
