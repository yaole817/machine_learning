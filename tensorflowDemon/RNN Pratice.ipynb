{
 "cells": [
  {
   "cell_type": "code",
   "execution_count": 1,
   "metadata": {
    "collapsed": true
   },
   "outputs": [],
   "source": [
    "import tensorflow as tf\n",
    "import numpy as np"
   ]
  },
  {
   "cell_type": "code",
   "execution_count": 3,
   "metadata": {
    "collapsed": true
   },
   "outputs": [],
   "source": [
    "n_input = 3\n",
    "n_neurons = 5"
   ]
  },
  {
   "cell_type": "markdown",
   "metadata": {},
   "source": [
    "### 使用矩阵形式实现RNN网络\n",
    "实现最简单的RNN网络"
   ]
  },
  {
   "cell_type": "code",
   "execution_count": 5,
   "metadata": {},
   "outputs": [
    {
     "name": "stdout",
     "output_type": "stream",
     "text": [
      "[[ 0.1799698   0.00931692  0.07043761 -0.43363261  0.00810006]\n",
      " [ 0.47598353 -0.29216325  0.37975335 -0.94376749 -0.25405109]\n",
      " [ 0.69294834 -0.54495496  0.62244606 -0.995772   -0.48352724]\n",
      " [-0.14528699 -0.2630547   0.50710464 -0.88405937 -0.47964346]]\n",
      "[[ 0.68839753 -0.74964708  0.71633029 -0.99792862 -0.61965233]\n",
      " [ 0.02885482 -0.11963315 -0.11992651  0.14578612  0.16900289]\n",
      " [ 0.47637266 -0.65785044  0.36910301 -0.95525455 -0.35340005]\n",
      " [ 0.12127631 -0.4350065   0.13012896 -0.64576995 -0.10354767]]\n"
     ]
    }
   ],
   "source": [
    "x0 = tf.placeholder(tf.float32, [None, n_input])\n",
    "x1 = tf.placeholder(tf.float32, [None, n_input])\n",
    "\n",
    "Wx = tf.Variable(tf.truncated_normal([n_input, n_neurons], dtype=tf.float32, stddev=0.1))\n",
    "Wy = tf.Variable(tf.truncated_normal([n_neurons, n_neurons], dtype=tf.float32, stddev=0.1))\n",
    "b = tf.Variable(tf.zeros([1, n_neurons], dtype=tf.float32))\n",
    "\n",
    "Y0 = tf.tanh(tf.matmul(x0, Wx) + b)\n",
    "\n",
    "Y1 = tf.tanh(tf.matmul(Y0, Wy) + tf.matmul(x1, Wx) + b)\n",
    "\n",
    "x0_batch = np.array([[0, 1, 2], [3, 4, 5], [6, 7, 8], [9, 0, 1]])\n",
    "x1_batch = np.array([[9, 8, 7], [0, 0, 0], [6, 5, 4], [3, 2, 1]])\n",
    "\n",
    "with tf.Session() as sess:\n",
    "    sess.run(tf.global_variables_initializer())\n",
    "    y0_val, y1_val = sess.run([Y0, Y1], feed_dict={x0: x0_batch, x1:x1_batch})\n",
    "    print(y0_val)\n",
    "    print(y1_val)\n",
    "    "
   ]
  },
  {
   "cell_type": "markdown",
   "metadata": {},
   "source": [
    "### 使用tensorflow 提供的现有的网络来实现"
   ]
  },
  {
   "cell_type": "code",
   "execution_count": 10,
   "metadata": {},
   "outputs": [
    {
     "name": "stdout",
     "output_type": "stream",
     "text": [
      "[[ 0.2870166   0.74821717  0.75459671  0.14574462  0.88528639]\n",
      " [-0.15449914  0.84353352  0.95306528 -0.16276072  0.99990314]\n",
      " [-0.54187393  0.9047327   0.99177581 -0.44241726  0.99999994]\n",
      " [-0.37033784 -0.99925017 -0.15038314 -0.92454737  0.97204143]]\n",
      "[[-0.76205266 -0.17201045  0.98986125 -0.78598636  1.        ]\n",
      " [ 0.58631444  0.03882574  0.85502857  0.43322185  0.79885793]\n",
      " [-0.52539694 -0.37900975  0.97634476 -0.00414488  0.99999803]\n",
      " [-0.66244298 -0.63323975 -0.30876365  0.79047835  0.96054465]]\n"
     ]
    }
   ],
   "source": [
    "tf.reset_default_graph()\n",
    "x0 = tf.placeholder(tf.float32, [None, n_input])\n",
    "x1 = tf.placeholder(tf.float32, [None, n_input])\n",
    "basic_cell = tf.contrib.rnn.BasicRNNCell(num_units=n_neurons)\n",
    "out_seqs, states = tf.contrib.rnn.static_rnn(basic_cell, [x0, x1], dtype=tf.float32)\n",
    "Y0, Y1 = out_seqs\n",
    "\n",
    "x0_batch = np.array([[0, 1, 2], [3, 4, 5], [6, 7, 8], [9, 0, 1]])\n",
    "x1_batch = np.array([[9, 8, 7], [0, 0, 0], [6, 5, 4], [3, 2, 1]])\n",
    "\n",
    "with tf.Session() as sess:\n",
    "    sess.run(tf.global_variables_initializer())\n",
    "    y0_val, y1_val = sess.run([Y0, Y1], feed_dict={x0: x0_batch, x1:x1_batch})\n",
    "    print(y0_val)\n",
    "    print(y1_val)"
   ]
  },
  {
   "cell_type": "code",
   "execution_count": null,
   "metadata": {
    "collapsed": true
   },
   "outputs": [],
   "source": []
  }
 ],
 "metadata": {
  "kernelspec": {
   "display_name": "Python 3",
   "language": "python",
   "name": "python3"
  },
  "language_info": {
   "codemirror_mode": {
    "name": "ipython",
    "version": 3
   },
   "file_extension": ".py",
   "mimetype": "text/x-python",
   "name": "python",
   "nbconvert_exporter": "python",
   "pygments_lexer": "ipython3",
   "version": "3.6.3"
  }
 },
 "nbformat": 4,
 "nbformat_minor": 2
}
